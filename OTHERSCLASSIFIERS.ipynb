{
 "cells": [
  {
   "cell_type": "markdown",
   "metadata": {},
   "source": [
    "# Classification of Video QoE usin Different ML Classifiers"
   ]
  },
  {
   "cell_type": "code",
   "execution_count": 1,
   "metadata": {},
   "outputs": [],
   "source": [
    "import matplotlib.pyplot as plt\n",
    "#plt.style.use('classic')\n",
    "%matplotlib inline\n",
    "import numpy as np\n",
    "import pandas as pd\n",
    "import seaborn as sns\n",
    "from scipy import stats\n",
    "import matplotlib.patheffects as mpe\n",
    "import matplotlib\n",
    "from imblearn.over_sampling import SMOTE\n",
    "from sklearn.model_selection import train_test_split\n",
    "from sklearn import metrics\n",
    "from sklearn.metrics import confusion_matrix, classification_report\n",
    "from sklearn import metrics"
   ]
  },
  {
   "cell_type": "code",
   "execution_count": 2,
   "metadata": {},
   "outputs": [],
   "source": [
    "df = pd.read_csv(\"Down_Up - Sheet2.csv\")"
   ]
  },
  {
   "cell_type": "code",
   "execution_count": 3,
   "metadata": {},
   "outputs": [],
   "source": [
    "def Classification(CLASS):\n",
    "    if CLASS >= 0 and CLASS <= 2:\n",
    "        return 'Poor'\n",
    "    elif CLASS > 2 and CLASS <= 3:\n",
    "        return 'Average'\n",
    "    elif CLASS >3 and CLASS <= 5:\n",
    "        return 'Good'"
   ]
  },
  {
   "cell_type": "code",
   "execution_count": 4,
   "metadata": {},
   "outputs": [],
   "source": [
    "df['n_class']= df['P1203'].apply(Classification)"
   ]
  },
  {
   "cell_type": "code",
   "execution_count": null,
   "metadata": {},
   "outputs": [],
   "source": []
  },
  {
   "cell_type": "code",
   "execution_count": 5,
   "metadata": {},
   "outputs": [
    {
     "data": {
      "text/plain": [
       "Index(['ExpID', 'Case', 'Algo', 'timeslot_sec', 'timeslot_mil',\n",
       "       'InterIntervalTime', 'AveragePTime', 'AveragePTime_gt100',\n",
       "       'InterIntervalTime_gt100', 'TPT', 'T_pk', 'T_pk_gt100',\n",
       "       'U_InterIntervalTime', 'U_AveragePTime', 'U_AveragePTime_gt100',\n",
       "       'U_InterIntervalTime_gt100', 'U_TPT', 'U_T_pk', 'U_T_pk_gt100',\n",
       "       '10_per_pk', '20_per_pk', '30_per_pk', '40_per_pk', '50_per_pk',\n",
       "       '60_per_pk', '70_per_pk', '80_per_pk', '90_per_pk', '10IPG', '20IPG',\n",
       "       '30IPG', '40IPG', '50IPG', '60IPG', '70IPG', '80IPG', '90IPG',\n",
       "       'U_10_per_pk', 'U_20_per_pk', 'U_30_per_pk', 'U_40_per_pk',\n",
       "       'U_50_per_pk', 'U_60_per_pk', 'U_70_per_pk', 'U_80_per_pk',\n",
       "       'U_90_per_pk', 'U_10IPG', 'U_20IPG', 'U_30IPG', 'U_40IPG', 'U_50IPG',\n",
       "       'U_60IPG', 'U_70IPG', 'U_80IPG', 'U_90IPG', 'Width_Height', 'P1203',\n",
       "       'Clae', 'Duanmu', 'Yin', 'Yu', 'Stall', 'Bitrate', 'n_class'],\n",
       "      dtype='object')"
      ]
     },
     "execution_count": 5,
     "metadata": {},
     "output_type": "execute_result"
    }
   ],
   "source": [
    "df.columns"
   ]
  },
  {
   "cell_type": "code",
   "execution_count": 7,
   "metadata": {},
   "outputs": [
    {
     "data": {
      "text/plain": [
       "0          Poor\n",
       "1          Poor\n",
       "2          Poor\n",
       "3          Poor\n",
       "4       Average\n",
       "         ...   \n",
       "997        Good\n",
       "998        Good\n",
       "999        Good\n",
       "1000       Good\n",
       "1001       Good\n",
       "Name: n_class, Length: 1002, dtype: object"
      ]
     },
     "execution_count": 7,
     "metadata": {},
     "output_type": "execute_result"
    }
   ],
   "source": [
    "df['n_class']"
   ]
  },
  {
   "cell_type": "code",
   "execution_count": 8,
   "metadata": {},
   "outputs": [],
   "source": [
    "# df =df[(df['Case']=='Static-1')]"
   ]
  },
  {
   "cell_type": "code",
   "execution_count": 9,
   "metadata": {},
   "outputs": [],
   "source": [
    "# df =df[(df['Case']=='Driving-2') | (df['Case']=='Driving-1')]"
   ]
  },
  {
   "cell_type": "code",
   "execution_count": 10,
   "metadata": {},
   "outputs": [],
   "source": [
    "# df =df[(df['Algo']=='bba')| (df['Algo']=='elastic')| (df['Algo']=='conventional')]\n",
    "# df =df[(df['Algo']=='conventional')]"
   ]
  },
  {
   "cell_type": "code",
   "execution_count": 11,
   "metadata": {},
   "outputs": [
    {
     "data": {
      "text/plain": [
       "1002"
      ]
     },
     "execution_count": 11,
     "metadata": {},
     "output_type": "execute_result"
    }
   ],
   "source": [
    "df.shape[0]"
   ]
  },
  {
   "cell_type": "code",
   "execution_count": 12,
   "metadata": {},
   "outputs": [
    {
     "data": {
      "text/plain": [
       "array(['Poor', 'Average', 'Good'], dtype=object)"
      ]
     },
     "execution_count": 12,
     "metadata": {},
     "output_type": "execute_result"
    }
   ],
   "source": [
    "df['n_class'].unique()"
   ]
  },
  {
   "cell_type": "code",
   "execution_count": 13,
   "metadata": {},
   "outputs": [
    {
     "data": {
      "text/plain": [
       "False"
      ]
     },
     "execution_count": 13,
     "metadata": {},
     "output_type": "execute_result"
    }
   ],
   "source": [
    "df.isnull().values.any()"
   ]
  },
  {
   "cell_type": "code",
   "execution_count": 14,
   "metadata": {},
   "outputs": [],
   "source": [
    "nan_cols = [i for i in df.columns if df[i].isnull().any()]"
   ]
  },
  {
   "cell_type": "code",
   "execution_count": 15,
   "metadata": {},
   "outputs": [
    {
     "data": {
      "text/plain": [
       "[]"
      ]
     },
     "execution_count": 15,
     "metadata": {},
     "output_type": "execute_result"
    }
   ],
   "source": [
    "nan_cols"
   ]
  },
  {
   "cell_type": "code",
   "execution_count": 16,
   "metadata": {},
   "outputs": [],
   "source": [
    "# df['Min_gt100']= df['Min_gt100'].fillna(value=df['Min_gt100'].mean())"
   ]
  },
  {
   "cell_type": "code",
   "execution_count": 17,
   "metadata": {},
   "outputs": [],
   "source": [
    "# df['Max_gt100']= df['Max_gt100'].fillna(value=df['Max_gt100'].mean())"
   ]
  },
  {
   "cell_type": "code",
   "execution_count": 18,
   "metadata": {},
   "outputs": [],
   "source": [
    "# df.loc[:, (df == 0).all()]\n"
   ]
  },
  {
   "cell_type": "code",
   "execution_count": null,
   "metadata": {},
   "outputs": [],
   "source": []
  },
  {
   "cell_type": "code",
   "execution_count": 19,
   "metadata": {},
   "outputs": [],
   "source": [
    "from sklearn import preprocessing\n"
   ]
  },
  {
   "cell_type": "code",
   "execution_count": 20,
   "metadata": {},
   "outputs": [],
   "source": [
    "X = df[['InterIntervalTime', 'AveragePTime', 'AveragePTime_gt100',\n",
    "       'InterIntervalTime_gt100', 'TPT', 'T_pk', 'T_pk_gt100',\n",
    "       'U_InterIntervalTime', 'U_AveragePTime', 'U_AveragePTime_gt100',\n",
    "       'U_InterIntervalTime_gt100', 'U_TPT', 'U_T_pk', 'U_T_pk_gt100',\n",
    "       '10_per_pk', '20_per_pk', '30_per_pk', '40_per_pk', '50_per_pk',\n",
    "       '60_per_pk', '70_per_pk', '80_per_pk', '90_per_pk',\n",
    "       'U_10_per_pk', 'U_20_per_pk', 'U_30_per_pk', 'U_40_per_pk',\n",
    "       'U_50_per_pk', 'U_60_per_pk', 'U_70_per_pk', 'U_80_per_pk',\n",
    "       'U_90_per_pk']]\n",
    "y = df['n_class']"
   ]
  },
  {
   "cell_type": "code",
   "execution_count": 21,
   "metadata": {},
   "outputs": [
    {
     "data": {
      "text/plain": [
       "Index(['InterIntervalTime', 'AveragePTime', 'AveragePTime_gt100',\n",
       "       'InterIntervalTime_gt100', 'TPT', 'T_pk', 'T_pk_gt100',\n",
       "       'U_InterIntervalTime', 'U_AveragePTime', 'U_AveragePTime_gt100',\n",
       "       'U_InterIntervalTime_gt100', 'U_TPT', 'U_T_pk', 'U_T_pk_gt100',\n",
       "       '10_per_pk', '20_per_pk', '30_per_pk', '40_per_pk', '50_per_pk',\n",
       "       '60_per_pk', '70_per_pk', '80_per_pk', '90_per_pk', 'U_10_per_pk',\n",
       "       'U_20_per_pk', 'U_30_per_pk', 'U_40_per_pk', 'U_50_per_pk',\n",
       "       'U_60_per_pk', 'U_70_per_pk', 'U_80_per_pk', 'U_90_per_pk'],\n",
       "      dtype='object')"
      ]
     },
     "execution_count": 21,
     "metadata": {},
     "output_type": "execute_result"
    }
   ],
   "source": [
    "X.columns"
   ]
  },
  {
   "cell_type": "code",
   "execution_count": 22,
   "metadata": {},
   "outputs": [],
   "source": [
    "# X=preprocessing.normalize(X)\n",
    "X= preprocessing.scale(X)"
   ]
  },
  {
   "cell_type": "code",
   "execution_count": 23,
   "metadata": {},
   "outputs": [],
   "source": [
    "# y = df.iloc[:, 23]"
   ]
  },
  {
   "cell_type": "code",
   "execution_count": 24,
   "metadata": {},
   "outputs": [
    {
     "data": {
      "text/plain": [
       "0          Poor\n",
       "1          Poor\n",
       "2          Poor\n",
       "3          Poor\n",
       "4       Average\n",
       "         ...   \n",
       "997        Good\n",
       "998        Good\n",
       "999        Good\n",
       "1000       Good\n",
       "1001       Good\n",
       "Name: n_class, Length: 1002, dtype: object"
      ]
     },
     "execution_count": 24,
     "metadata": {},
     "output_type": "execute_result"
    }
   ],
   "source": [
    "y"
   ]
  },
  {
   "cell_type": "code",
   "execution_count": 25,
   "metadata": {},
   "outputs": [
    {
     "data": {
      "text/plain": [
       "array(['Poor', 'Average', 'Good'], dtype=object)"
      ]
     },
     "execution_count": 25,
     "metadata": {},
     "output_type": "execute_result"
    }
   ],
   "source": [
    "y.unique()"
   ]
  },
  {
   "cell_type": "code",
   "execution_count": 26,
   "metadata": {},
   "outputs": [
    {
     "data": {
      "text/plain": [
       "1002"
      ]
     },
     "execution_count": 26,
     "metadata": {},
     "output_type": "execute_result"
    }
   ],
   "source": [
    "X.shape[0]"
   ]
  },
  {
   "cell_type": "code",
   "execution_count": 27,
   "metadata": {},
   "outputs": [],
   "source": [
    "sm = SMOTE()\n",
    "X, y = sm.fit_sample(X, y)"
   ]
  },
  {
   "cell_type": "code",
   "execution_count": 28,
   "metadata": {},
   "outputs": [
    {
     "data": {
      "text/plain": [
       "2484"
      ]
     },
     "execution_count": 28,
     "metadata": {},
     "output_type": "execute_result"
    }
   ],
   "source": [
    "X.shape[0]"
   ]
  },
  {
   "cell_type": "code",
   "execution_count": 29,
   "metadata": {},
   "outputs": [],
   "source": [
    "# Splitting the dataset into the Training set and Test set\n",
    "from sklearn.model_selection import train_test_split\n",
    "X_train, X_test, y_train, y_test = train_test_split(X, y, test_size = 0.30, stratify=y, random_state = 42)"
   ]
  },
  {
   "cell_type": "code",
   "execution_count": 30,
   "metadata": {},
   "outputs": [],
   "source": [
    "from sklearn.neighbors import KNeighborsClassifier\n",
    "knn = KNeighborsClassifier(n_neighbors = 3)"
   ]
  },
  {
   "cell_type": "code",
   "execution_count": 31,
   "metadata": {},
   "outputs": [
    {
     "data": {
      "text/plain": [
       "KNeighborsClassifier(n_neighbors=3)"
      ]
     },
     "execution_count": 31,
     "metadata": {},
     "output_type": "execute_result"
    }
   ],
   "source": [
    "knn.fit(X_train,y_train)"
   ]
  },
  {
   "cell_type": "code",
   "execution_count": 32,
   "metadata": {},
   "outputs": [
    {
     "data": {
      "text/plain": [
       "0.9504021447721179"
      ]
     },
     "execution_count": 32,
     "metadata": {},
     "output_type": "execute_result"
    }
   ],
   "source": [
    "knn.score(X_test,y_test)"
   ]
  },
  {
   "cell_type": "code",
   "execution_count": 33,
   "metadata": {},
   "outputs": [],
   "source": [
    "y_pred = knn.predict(X_test)"
   ]
  },
  {
   "cell_type": "code",
   "execution_count": 34,
   "metadata": {},
   "outputs": [
    {
     "name": "stdout",
     "output_type": "stream",
     "text": [
      "Accuracy: 0.9504021447721179\n"
     ]
    }
   ],
   "source": [
    "#Import scikit-learn metrics module for accuracy calculation\n",
    "from sklearn import metrics\n",
    "# Model Accuracy, how often is the classifier correct?\n",
    "print(\"Accuracy:\",metrics.accuracy_score(y_test, y_pred))"
   ]
  },
  {
   "cell_type": "code",
   "execution_count": 35,
   "metadata": {},
   "outputs": [
    {
     "name": "stdout",
     "output_type": "stream",
     "text": [
      "Confusion Matrix: \n",
      " [[237   1  10]\n",
      " [ 23 225   1]\n",
      " [  2   0 247]]\n",
      "              precision    recall  f1-score   support\n",
      "\n",
      "     Average       0.90      0.96      0.93       248\n",
      "        Good       1.00      0.90      0.95       249\n",
      "        Poor       0.96      0.99      0.97       249\n",
      "\n",
      "    accuracy                           0.95       746\n",
      "   macro avg       0.95      0.95      0.95       746\n",
      "weighted avg       0.95      0.95      0.95       746\n",
      "\n"
     ]
    }
   ],
   "source": [
    "cm=confusion_matrix(y_test,y_pred)\n",
    "print('Confusion Matrix: \\n', cm)\n",
    "print(classification_report(y_test, y_pred))"
   ]
  },
  {
   "cell_type": "code",
   "execution_count": 36,
   "metadata": {},
   "outputs": [
    {
     "data": {
      "text/plain": [
       "RandomForestClassifier(n_estimators=300)"
      ]
     },
     "execution_count": 36,
     "metadata": {},
     "output_type": "execute_result"
    }
   ],
   "source": [
    "from sklearn.ensemble import RandomForestClassifier\n",
    "from sklearn.metrics import classification_report\n",
    "from sklearn.metrics import accuracy_score\n",
    "rf = RandomForestClassifier(n_estimators=300)\n",
    "rf.fit(X_train, y_train)"
   ]
  },
  {
   "cell_type": "code",
   "execution_count": 37,
   "metadata": {},
   "outputs": [
    {
     "name": "stdout",
     "output_type": "stream",
     "text": [
      "Accuracy is 0.98\n"
     ]
    }
   ],
   "source": [
    "rf_predictions = rf.predict(X_test)\n",
    "accuracy_score(y_test, rf_predictions)\n",
    "print('Accuracy is ' + str(round(accuracy_score(y_test, rf_predictions),2)))"
   ]
  },
  {
   "cell_type": "code",
   "execution_count": 38,
   "metadata": {},
   "outputs": [
    {
     "name": "stdout",
     "output_type": "stream",
     "text": [
      "              precision    recall  f1-score   support\n",
      "\n",
      "     Average       0.98      0.97      0.97       248\n",
      "        Good       1.00      0.98      0.99       249\n",
      "        Poor       0.97      0.99      0.98       249\n",
      "\n",
      "    accuracy                           0.98       746\n",
      "   macro avg       0.98      0.98      0.98       746\n",
      "weighted avg       0.98      0.98      0.98       746\n",
      "\n"
     ]
    }
   ],
   "source": [
    "print(classification_report(y_test, rf_predictions))"
   ]
  },
  {
   "cell_type": "code",
   "execution_count": 39,
   "metadata": {},
   "outputs": [
    {
     "name": "stdout",
     "output_type": "stream",
     "text": [
      "Confusion matrix\n",
      "\n",
      " [[241   0   7]\n",
      " [  4 245   0]\n",
      " [  2   0 247]]\n"
     ]
    }
   ],
   "source": [
    "cm = confusion_matrix(y_test, rf_predictions)\n",
    "print('Confusion matrix\\n\\n', cm)"
   ]
  },
  {
   "cell_type": "code",
   "execution_count": null,
   "metadata": {},
   "outputs": [],
   "source": []
  }
 ],
 "metadata": {
  "kernelspec": {
   "display_name": "Python 3",
   "language": "python",
   "name": "python3"
  },
  "language_info": {
   "codemirror_mode": {
    "name": "ipython",
    "version": 3
   },
   "file_extension": ".py",
   "mimetype": "text/x-python",
   "name": "python",
   "nbconvert_exporter": "python",
   "pygments_lexer": "ipython3",
   "version": "3.8.3"
  }
 },
 "nbformat": 4,
 "nbformat_minor": 4
}
